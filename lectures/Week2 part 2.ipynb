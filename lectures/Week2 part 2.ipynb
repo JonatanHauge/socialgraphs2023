{
 "cells": [
  {
   "cell_type": "markdown",
   "id": "9c047310",
   "metadata": {},
   "source": [
    "## Week 2 exercises \n",
    "\n",
    "### Part 2"
   ]
  },
  {
   "cell_type": "markdown",
   "id": "cbb136fe",
   "metadata": {},
   "source": [
    "#### Exercise 2.1\n",
    "\n",
    "a has an eulerian path since it has two nodes with uneven degree (3) and two with even degree (2).\n",
    "\n",
    "b does not have an eulerian path since it has 4 nodes with uneven degree.\n",
    "\n",
    "c has an eulerian path since all nodes have an even degree.\n",
    "\n",
    "d has an eulerian path since it has 2 nodes with uneven degree (1 and 3)."
   ]
  },
  {
   "cell_type": "markdown",
   "id": "23e8ec03",
   "metadata": {},
   "source": [
    "#### Exercise 2.3 graph representation using NetworkX"
   ]
  },
  {
   "cell_type": "code",
   "execution_count": 155,
   "id": "c82882a0",
   "metadata": {},
   "outputs": [
    {
     "name": "stdout",
     "output_type": "stream",
     "text": [
      "[[0. 1. 1. 1. 0. 1.]\n",
      " [1. 0. 1. 1. 0. 0.]\n",
      " [1. 1. 0. 0. 0. 1.]\n",
      " [1. 1. 0. 0. 0. 0.]\n",
      " [0. 0. 0. 0. 0. 0.]\n",
      " [1. 0. 1. 0. 0. 0.]]\n",
      "[[1. 1. 1. 1. 2. 2. 3.]\n",
      " [2. 3. 4. 6. 3. 4. 6.]]\n",
      "[1, 2, 3, 4, 6, 5]\n",
      "[(1, 2), (1, 3), (1, 4), (1, 5), (2, 3), (2, 4), (3, 5)]\n",
      "[[0. 1. 1. 1. 0. 1.]\n",
      " [1. 0. 1. 1. 0. 0.]\n",
      " [1. 1. 0. 0. 0. 1.]\n",
      " [1. 1. 0. 0. 0. 0.]\n",
      " [0. 0. 0. 0. 0. 0.]\n",
      " [1. 0. 1. 0. 0. 0.]]\n",
      "[[1. 1. 1. 1. 2. 2. 3.]\n",
      " [2. 3. 4. 5. 3. 4. 5.]]\n",
      "[[1, 2, 1, 3], [1, 3, 1, 3], [1, 3, 2, 3], [1, 3, 6, 3], [1, 4, 1, 3], [1, 4, 2, 3], [1, 6, 1, 3]]\n",
      "\n",
      "[[1, 2, 3, 6, 1], [1, 3, 2, 4, 1], [1, 4, 2, 3, 1], [1, 6, 3, 2, 1]]\n",
      "[[2, 1, 6, 3, 2], [2, 3, 1, 4, 2], [2, 3, 6, 1, 2], [2, 4, 1, 3, 2]]\n",
      "[[3, 1, 4, 2, 3], [3, 2, 1, 6, 3], [3, 2, 4, 1, 3], [3, 6, 1, 2, 3]]\n",
      "[[4, 1, 3, 2, 4], [4, 2, 3, 1, 4]]\n",
      "[]\n",
      "[[6, 1, 2, 3, 6], [6, 3, 2, 1, 6]]\n",
      "Cycles:  16\n",
      "[(1, 4), (2, 3), (3, 3), (4, 2), (5, 0), (6, 2)]\n",
      "{1: 0.5, 2: 0.6666666666666666, 3: 0.6666666666666666, 4: 1.0, 5: 0, 6: 1.0}\n",
      "2\n"
     ]
    }
   ],
   "source": [
    "import networkx as nx\n",
    "import numpy as np\n",
    "\n",
    "# Network a\n",
    "a = nx.Graph()\n",
    "a.add_nodes_from([1,2,3,4,5,6])\n",
    "a.add_edges_from([(1,2),(1,3),(1,4),(1,6),(2,3),(2,4),(3,6)])\n",
    "#nx.draw(a, with_labels=True)\n",
    "adj_mat_a = nx.to_numpy_array(a)\n",
    "print(adj_mat_a)\n",
    "\n",
    "# Edge list\n",
    "Edge_list_a = np.zeros((2, len(a.edges)))\n",
    "for i, edge in enumerate(a.edges):\n",
    "    Edge_list_a[0,i] = edge[0]\n",
    "    Edge_list_a[1,i] = edge[1]\n",
    "\n",
    "print(Edge_list_a)\n",
    "\n",
    "#Average clustering coefficient\n",
    "\n",
    "nx.average_clustering(a)\n",
    "\n",
    "# Switch labels 5 and 6\n",
    "\n",
    "a_switched = nx.relabel_nodes(a, {6:5, 5:6})\n",
    "print(a_switched.nodes)\n",
    "print(a_switched.edges)\n",
    "\n",
    "adj_mat_a_switched = nx.to_numpy_array(a_switched)\n",
    "print(adj_mat_a_switched)\n",
    "\n",
    "# Edge list\n",
    "Edge_list_a_switched = np.zeros((2, len(a_switched.edges)))\n",
    "for i, edge in enumerate(a_switched.edges):\n",
    "    Edge_list_a_switched[0,i] = edge[0]\n",
    "    Edge_list_a_switched[1,i] = edge[1]\n",
    "\n",
    "print(Edge_list_a_switched)\n",
    "\n",
    "# From the link list you cannot see 'disconnected' nodes and you can also not so easily see clusters\n",
    "\n",
    "# Find all paths of length 3 from node 1 to node 3 (repetitions of edges and nodes allowed)\n",
    "def FindPaths(G, i, j, n):\n",
    "    if n == 0:\n",
    "        if i == j:\n",
    "            return [[j]]\n",
    "        else:\n",
    "            return []\n",
    "    paths = [[i]+path for neighbor in G.neighbors(i) for path in FindPaths(G,neighbor, j, n-1)] \n",
    "    return paths \n",
    "\n",
    "print(FindPaths(a, 1, 3, 3))\n",
    "\n",
    "# Count the number of cycles of length 4 (no repetitions allowed)\n",
    "def Findcycles(G, i, j, n):\n",
    "    if n == 0:\n",
    "        if i == j:\n",
    "            return [[j]]\n",
    "        else:\n",
    "            return []\n",
    "    paths = [[i]+path for neighbor in G.neighbors(i) for path in Findcycles(G,neighbor,j, n-1) if i not in path[:-1]] \n",
    "    return paths \n",
    "\n",
    "print()\n",
    "count = 0\n",
    "for node in a.nodes:\n",
    "    count += len(Findcycles(a, node, node, 4)) \n",
    "    print(Findcycles(a, node, node, 4))\n",
    "print('Cycles: ', count)\n",
    "\n",
    "#Degree, clustering coefficient, components\n",
    "print(a.degree())\n",
    "print(nx.clustering(a))\n",
    "print(nx.number_connected_components(a))"
   ]
  },
  {
   "cell_type": "code",
   "execution_count": 120,
   "id": "f3a30a2b",
   "metadata": {},
   "outputs": [
    {
     "name": "stdout",
     "output_type": "stream",
     "text": [
      "[[0. 1. 0. 0. 0. 0.]\n",
      " [0. 0. 1. 1. 0. 0.]\n",
      " [1. 1. 0. 0. 0. 0.]\n",
      " [1. 0. 0. 0. 0. 0.]\n",
      " [0. 0. 0. 0. 0. 0.]\n",
      " [1. 0. 1. 0. 0. 0.]]\n",
      "[[1. 2. 2. 3. 3. 4. 6. 6.]\n",
      " [2. 3. 4. 2. 1. 1. 1. 3.]]\n",
      "[]\n",
      "0\n",
      "[(1, 4), (2, 4), (3, 4), (4, 2), (5, 0), (6, 2)]\n",
      "{1: 0.3333333333333333, 2: 0.3, 3: 0.3, 4: 0.5, 5: 0, 6: 0.5}\n",
      "2\n",
      "3\n"
     ]
    }
   ],
   "source": [
    "#Network b\n",
    "b = nx.DiGraph()\n",
    "b.add_nodes_from([1,2,3,4,5,6])\n",
    "b.add_edges_from([(1,2),(2,3), (2,4), (3,2), (3,1), (4,1), (6,1), (6,3)])\n",
    "#nx.draw(b, with_labels=True)\n",
    "adj_mat_b = nx.to_numpy_array(b)\n",
    "print(adj_mat_b)\n",
    "\n",
    "# Edge list\n",
    "Edge_list_b = np.zeros((2, len(b.edges)))\n",
    "for i, edge in enumerate(b.edges):\n",
    "    Edge_list_b[0,i] = edge[0]\n",
    "    Edge_list_b[1,i] = edge[1]\n",
    "\n",
    "print(Edge_list_b)\n",
    "\n",
    "print(FindPaths(b, 1, 3, 3))\n",
    "\n",
    "count = 0\n",
    "for node in b.nodes:\n",
    "    count += len(Findcycles(b, node, node, 4)) \n",
    "print(count)\n",
    "\n",
    "#Degree, clustering coefficient, components\n",
    "print(b.degree())\n",
    "print(nx.clustering(b))\n",
    "print(nx.number_weakly_connected_components(b))\n",
    "print(nx.number_strongly_connected_components(b))"
   ]
  },
  {
   "cell_type": "markdown",
   "id": "f5c84a74",
   "metadata": {},
   "source": [
    "#### Consider an undirected graph in which all nodes have degree k=1.\n",
    "Which condition does N have to satisfy? What is the degree distribution of this network? How many components does the network have?\n",
    "\n",
    "N has to be even. The degree distribution is a 'kroneckers-delte' distribution, all probability mass is centered at k=1. The network must have N/2 components since it will consist of connected pairs of nodes."
   ]
  },
  {
   "cell_type": "markdown",
   "id": "9b847d2c",
   "metadata": {},
   "source": [
    "#### Consider now a network in which each node has degree k = 2 and clustering coefficient C = 1. How does the network look like? What condition does N satisfy in this case?\n",
    "\n",
    "The network is made of clusters of 3 fully connected nodes or 'triangles', so N must be a multiple of 3"
   ]
  },
  {
   "cell_type": "markdown",
   "id": "ab3ec2c9",
   "metadata": {},
   "source": [
    "### bipartite networks"
   ]
  },
  {
   "cell_type": "code",
   "execution_count": 150,
   "id": "3710b71a",
   "metadata": {},
   "outputs": [
    {
     "name": "stdout",
     "output_type": "stream",
     "text": [
      "[[0. 0. 0. 0. 0. 0. 1. 0. 0. 0. 0.]\n",
      " [0. 0. 0. 0. 0. 0. 0. 0. 1. 0. 0.]\n",
      " [0. 0. 0. 0. 0. 0. 1. 1. 1. 0. 0.]\n",
      " [0. 0. 0. 0. 0. 0. 0. 0. 1. 1. 0.]\n",
      " [0. 0. 0. 0. 0. 0. 0. 0. 1. 0. 1.]\n",
      " [0. 0. 0. 0. 0. 0. 0. 0. 0. 0. 1.]\n",
      " [1. 0. 1. 0. 0. 0. 0. 0. 0. 0. 0.]\n",
      " [0. 0. 1. 0. 0. 0. 0. 0. 0. 0. 0.]\n",
      " [0. 1. 1. 1. 1. 0. 0. 0. 0. 0. 0.]\n",
      " [0. 0. 0. 1. 0. 0. 0. 0. 0. 0. 0.]\n",
      " [0. 0. 0. 0. 1. 1. 0. 0. 0. 0. 0.]]\n",
      "[[0. 0. 1. 0. 0. 0.]\n",
      " [0. 0. 1. 1. 1. 0.]\n",
      " [1. 1. 0. 1. 1. 0.]\n",
      " [0. 1. 1. 0. 1. 0.]\n",
      " [0. 1. 1. 1. 0. 1.]\n",
      " [0. 0. 0. 0. 1. 0.]]\n",
      "[[0. 1. 1. 0. 0.]\n",
      " [1. 0. 1. 0. 0.]\n",
      " [1. 1. 0. 1. 1.]\n",
      " [0. 0. 1. 0. 0.]\n",
      " [0. 0. 1. 0. 0.]]\n",
      "1.6666666666666667\n",
      "2.0\n",
      "2.6666666666666665\n",
      "2.0\n"
     ]
    },
    {
     "data": {
      "image/png": "[encoded data removed]",
      "text/plain": [
       "<Figure size 640x480 with 1 Axes>"
      ]
     },
     "metadata": {},
     "output_type": "display_data"
    }
   ],
   "source": [
    "c = nx.Graph()\n",
    "c.add_nodes_from([i for i in range(1,12)])\n",
    "c.add_edges_from([(1,7), (2,9), (3,7),(3,8), (3,9), (4,9), (4,10), (5,9), (5,11), (6,11)])\n",
    "#nx.draw(c, with_labels = 1)\n",
    "adj_mat_c = nx.to_numpy_array(c)\n",
    "print(adj_mat_c)\n",
    "# It is an anti-block diagonal because each of the purple nodes are connected to at least one of the green nodes,\n",
    "#but not to any of each other\n",
    "proj1 = nx.projected_graph(c, [1,2,3,4,5,6])\n",
    "nx.draw(proj1, with_labels=1)\n",
    "proj2 = nx.projected_graph(c, [7,8,9,10,11])\n",
    "#nx.draw(proj2, with_labels=1)\n",
    "\n",
    "# Adjacency of projections\n",
    "adj_mat_p1 = nx.to_numpy_array(proj1)\n",
    "print(adj_mat_p1)\n",
    "adj_mat_p2 = nx.to_numpy_array(proj2)\n",
    "print(adj_mat_p2)\n",
    "\n",
    "av_degree1 = np.mean([degree for node, degree in c.degree(nbunch=[1,2,3,4,5,6])])\n",
    "print(av_degree1)\n",
    "av_degree2 = np.mean([degree for node, degree in c.degree(nbunch=[7,8,9,10,11])])\n",
    "print(av_degree2)\n",
    "\n",
    "av_degree_proj1 = np.mean([degree for node, degree in proj1.degree()])\n",
    "print(av_degree_proj1)\n",
    "\n",
    "av_degree_proj2 = np.mean([degree for node, degree in proj2.degree()])\n",
    "print(av_degree_proj2)\n",
    "\n",
    "# It is not so surprising that the average degree of a specific color in the bipartite network is not the same \n",
    "# as the average degree in the projected network. The projected network connects all the two-step connections from the \n",
    "# bipartite network which naturally gives more connections and therefor a higher average degree"
   ]
  },
  {
   "cell_type": "markdown",
   "id": "f473d152",
   "metadata": {},
   "source": [
    "#### Consider a bipartite network with N1 and N2 nodes in the two sets.\n",
    "\n",
    "What is the maximum number of links $L_{max}$ the network can have?\n",
    "How many links cannot occur compared to a non-bipartite network of size N = N1 + N2 ?\n",
    "\n",
    "The maximum number of links must be N1 * N2, the all nodes in each 'part' are connected to all nodes in the opposite 'part'.\n",
    "\n",
    "In a non-bipartite network of size N, the maximum number of link is N(N-1)/2, so N(N-1)/2 - N1*N2 links cannot occur"
   ]
  },
  {
   "cell_type": "markdown",
   "id": "12608cff",
   "metadata": {},
   "source": []
  },
  {
   "cell_type": "code",
   "execution_count": null,
   "id": "be0b9e91",
   "metadata": {},
   "outputs": [],
   "source": []
  },
  {
   "cell_type": "code",
   "execution_count": null,
   "id": "07889c01",
   "metadata": {},
   "outputs": [],
   "source": []
  },
  {
   "cell_type": "code",
   "execution_count": null,
   "id": "23a15447",
   "metadata": {},
   "outputs": [],
   "source": []
  },
  {
   "cell_type": "code",
   "execution_count": null,
   "id": "ad5e9f9c",
   "metadata": {},
   "outputs": [],
   "source": []
  },
  {
   "cell_type": "code",
   "execution_count": null,
   "id": "94e0e20d",
   "metadata": {},
   "outputs": [],
   "source": []
  },
  {
   "cell_type": "code",
   "execution_count": null,
   "id": "4e677a7f",
   "metadata": {},
   "outputs": [],
   "source": []
  },
  {
   "cell_type": "code",
   "execution_count": null,
   "id": "ce81063c",
   "metadata": {},
   "outputs": [],
   "source": []
  }
 ],
 "metadata": {
  "kernelspec": {
   "display_name": "Python 3 (ipykernel)",
   "language": "python",
   "name": "python3"
  },
  "language_info": {
   "codemirror_mode": {
    "name": "ipython",
    "version": 3
   },
   "file_extension": ".py",
   "mimetype": "text/x-python",
   "name": "python",
   "nbconvert_exporter": "python",
   "pygments_lexer": "ipython3",
   "version": "3.10.0"
  }
 },
 "nbformat": 4,
 "nbformat_minor": 5
}
